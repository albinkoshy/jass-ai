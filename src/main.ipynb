{
 "cells": [
  {
   "cell_type": "code",
   "execution_count": null,
   "metadata": {},
   "outputs": [],
   "source": [
    "# ML libraries\n",
    "import torch\n",
    "import torch.nn as nn\n",
    "\n",
    "import utils\n",
    "\n",
    "from envs.env import JassEnv\n",
    "from agents.dqn_agent import DQN_Agent\n",
    "\n",
    "utils.seed_everything(99, deterministic=False)\n",
    "\n",
    "env = JassEnv()\n",
    "agent = DQN_Agent()\n",
    "\n",
    "state = env.reset()\n",
    "\n",
    "action = agent.act(state)\n",
    "next_state, reward, done = env.step(action)\n",
    "\n",
    "state = next_state"
   ]
  },
  {
   "cell_type": "code",
   "execution_count": null,
   "metadata": {},
   "outputs": [],
   "source": []
  }
 ],
 "metadata": {
  "kernelspec": {
   "display_name": "jass-ai",
   "language": "python",
   "name": "python3"
  },
  "language_info": {
   "codemirror_mode": {
    "name": "ipython",
    "version": 3
   },
   "file_extension": ".py",
   "mimetype": "text/x-python",
   "name": "python",
   "nbconvert_exporter": "python",
   "pygments_lexer": "ipython3",
   "version": "3.11.10"
  }
 },
 "nbformat": 4,
 "nbformat_minor": 2
}
