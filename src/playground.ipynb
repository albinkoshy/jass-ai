{
 "cells": [
  {
   "cell_type": "code",
   "execution_count": null,
   "metadata": {},
   "outputs": [],
   "source": [
    "from envs.card import Card, Rank\n",
    "from envs.deck import Deck\n",
    "\n",
    "deck = Deck()\n",
    "deck.cards"
   ]
  },
  {
   "cell_type": "code",
   "execution_count": 9,
   "metadata": {},
   "outputs": [
    {
     "name": "stdout",
     "output_type": "stream",
     "text": [
      "0.999995\n",
      "0.7787964023166892\n",
      "0.6065268688957787\n",
      "0.47236330522097375\n",
      "0.36787668207592394\n",
      "0.2865024690092762\n",
      "0.22312820776031353\n",
      "0.17377231432067458\n",
      "0.13533392988483717\n",
      "0.10539810469621436\n",
      "0.08208407516878548\n",
      "0.06392710206445243\n",
      "0.04978644603055721\n",
      "0.03877369892122625\n",
      "0.030196968209202663\n",
      "0.023517407789237707\n",
      "0.018315364154893966\n",
      "0.014264011031006735\n",
      "0.011108816017633518\n",
      "0.009999986730205385\n"
     ]
    }
   ],
   "source": [
    "epsilon_max: float = 1.0\n",
    "epsilon_min: float = 0.01\n",
    "epsilon_decay: float = 0.999995\n",
    "\n",
    "epsilon = epsilon_max\n",
    "\n",
    "for i in range(1000000):\n",
    "    if epsilon > epsilon_min:\n",
    "        epsilon *= epsilon_decay\n",
    "    \n",
    "    if i % 50000 == 0:\n",
    "        print(epsilon)"
   ]
  }
 ],
 "metadata": {
  "kernelspec": {
   "display_name": "jass-ai",
   "language": "python",
   "name": "python3"
  },
  "language_info": {
   "codemirror_mode": {
    "name": "ipython",
    "version": 3
   },
   "file_extension": ".py",
   "mimetype": "text/x-python",
   "name": "python",
   "nbconvert_exporter": "python",
   "pygments_lexer": "ipython3",
   "version": "3.11.10"
  }
 },
 "nbformat": 4,
 "nbformat_minor": 2
}
