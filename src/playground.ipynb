{
 "cells": [
  {
   "cell_type": "code",
   "execution_count": null,
   "metadata": {},
   "outputs": [],
   "source": [
    "from envs.card import Card, Rank\n",
    "from envs.deck import Deck\n",
    "\n",
    "deck = Deck()\n",
    "deck.cards"
   ]
  },
  {
   "cell_type": "code",
   "execution_count": 9,
   "metadata": {},
   "outputs": [
    {
     "name": "stdout",
     "output_type": "stream",
     "text": [
      "0.999995\n",
      "0.7787964023166892\n",
      "0.6065268688957787\n",
      "0.47236330522097375\n",
      "0.36787668207592394\n",
      "0.2865024690092762\n",
      "0.22312820776031353\n",
      "0.17377231432067458\n",
      "0.13533392988483717\n",
      "0.10539810469621436\n",
      "0.08208407516878548\n",
      "0.06392710206445243\n",
      "0.04978644603055721\n",
      "0.03877369892122625\n",
      "0.030196968209202663\n",
      "0.023517407789237707\n",
      "0.018315364154893966\n",
      "0.014264011031006735\n",
      "0.011108816017633518\n",
      "0.009999986730205385\n"
     ]
    }
   ],
   "source": [
    "epsilon_max: float = 1.0\n",
    "epsilon_min: float = 0.01\n",
    "epsilon_decay: float = 0.999995\n",
    "\n",
    "epsilon = epsilon_max\n",
    "\n",
    "for i in range(1000000):\n",
    "    if epsilon > epsilon_min:\n",
    "        epsilon *= epsilon_decay\n",
    "    \n",
    "    if i % 50000 == 0:\n",
    "        print(epsilon)"
   ]
  },
  {
   "cell_type": "code",
   "execution_count": 12,
   "metadata": {},
   "outputs": [
    {
     "name": "stdout",
     "output_type": "stream",
     "text": [
      "0.9999942435538359\n",
      "0.7498898926072469\n",
      "0.5623380881034402\n",
      "0.4216940759561049\n",
      "0.3162259456694708\n",
      "0.23713600549836059\n",
      "0.17782691734755438\n",
      "0.1333513755824503\n",
      "0.09999942435585575\n",
      "0.07498898926107836\n",
      "0.056233808810609416\n",
      "0.04216940759580898\n",
      "0.03162259456709568\n",
      "0.02371360054994717\n",
      "0.017782691734838697\n",
      "0.013335137558307505\n",
      "0.009999942435632455\n",
      "0.009999942435632455\n",
      "0.009999942435632455\n",
      "0.009999942435632455\n"
     ]
    }
   ],
   "source": [
    "n_episodes: int = 1000000\n",
    "\n",
    "epsilon_max: float = 1.0\n",
    "epsilon_min: float = 0.01\n",
    "\n",
    "epsilon_decay: float = epsilon_min ** (1 / (0.8 * n_episodes))\n",
    "\n",
    "epsilon = epsilon_max\n",
    "\n",
    "for i in range(n_episodes):\n",
    "    if epsilon > epsilon_min:\n",
    "        epsilon *= epsilon_decay\n",
    "    \n",
    "    if i % (n_episodes // 20) == 0:\n",
    "        print(epsilon)"
   ]
  },
  {
   "cell_type": "code",
   "execution_count": null,
   "metadata": {},
   "outputs": [
    {
     "data": {
      "text/plain": [
       "360453"
      ]
     },
     "execution_count": 45,
     "metadata": {},
     "output_type": "execute_result"
    }
   ],
   "source": [
    "import random\n",
    "\n",
    "random.randint(1, 999999)"
   ]
  },
  {
   "cell_type": "code",
   "execution_count": 38,
   "metadata": {},
   "outputs": [
    {
     "name": "stderr",
     "output_type": "stream",
     "text": [
      "100%|██████████| 1000000/1000000 [00:18<00:00, 54490.09it/s]"
     ]
    },
    {
     "name": "stdout",
     "output_type": "stream",
     "text": [
      "1.0\n",
      "{'TOP_DOWN': 0.105122, 'BOTTOM_UP': 0.1058, 'ROSE': 0.161703, 'SCHILTE': 0.162227, 'EICHEL': 0.162652, 'SCHELLE': 0.162614, 'SCHIEBEN': 0.139882}\n"
     ]
    },
    {
     "name": "stderr",
     "output_type": "stream",
     "text": [
      "\n"
     ]
    }
   ],
   "source": [
    "import random\n",
    "from tqdm import tqdm\n",
    "from envs.deck import Deck\n",
    "from envs.card import Suit\n",
    "\n",
    "def game_type_probabilities(n: int):\n",
    "    is_geschoben = False\n",
    "    \n",
    "    count_game_type = {\n",
    "        \"TOP_DOWN\": 0,\n",
    "        \"BOTTOM_UP\": 0,\n",
    "        \"ROSE\": 0,\n",
    "        \"SCHILTE\": 0,\n",
    "        \"EICHEL\": 0,\n",
    "        \"SCHELLE\": 0,\n",
    "        \"SCHIEBEN\": 0\n",
    "    }\n",
    "\n",
    "    for _ in tqdm(range(n)):\n",
    "        if not is_geschoben and random.random() < 0.14:\n",
    "            count_game_type[\"SCHIEBEN\"] += 1\n",
    "            continue\n",
    "\n",
    "        deck = Deck()\n",
    "        hand = deck.cards[:9]\n",
    "        hand.sort(key=lambda card: (card.suit.value, card.rank.value))\n",
    "        #print(hand)\n",
    "\n",
    "        # Choose top-down if many high cards\n",
    "        high_cards = [card for card in hand if card.rank.value > 10]\n",
    "        if len(high_cards) > 5:\n",
    "            count_game_type[\"TOP_DOWN\"] += 1\n",
    "            continue\n",
    "\n",
    "        # Choose bottom-up if many low cards\n",
    "        low_cards = [card for card in hand if card.rank.value <= 9]\n",
    "        if len(low_cards) > 5:\n",
    "            count_game_type[\"BOTTOM_UP\"] += 1\n",
    "            continue\n",
    "\n",
    "        # Choose trump for which it has the most cards\n",
    "        suits = [card.suit for card in hand]\n",
    "        suit_counts = {suit: suits.count(suit) for suit in set(suits)}\n",
    "        max_count = max(suit_counts.values())\n",
    "        max_suits = [suit for suit, count in suit_counts.items() if count == max_count]\n",
    "\n",
    "        trump = random.choice(max_suits)\n",
    "\n",
    "        if trump == Suit.ROSE:\n",
    "            count_game_type[\"ROSE\"] += 1\n",
    "            continue\n",
    "        elif trump == Suit.SCHILTE:\n",
    "            count_game_type[\"SCHILTE\"] += 1\n",
    "            continue\n",
    "        elif trump == Suit.EICHEL:\n",
    "            count_game_type[\"EICHEL\"] += 1\n",
    "            continue\n",
    "        elif trump == Suit.SCHELLE:\n",
    "            count_game_type[\"SCHELLE\"] += 1\n",
    "            continue\n",
    "        else:\n",
    "            raise ValueError(\"Suit not recognized\")\n",
    "    \n",
    "    game_type_probs = {game_type: count / n for game_type, count in count_game_type.items()}\n",
    "    return game_type_probs\n",
    "\n",
    "\n",
    "n = 1000000\n",
    "game_type_probs = game_type_probabilities(n)\n",
    "\n",
    "print(sum(game_type_probs.values()))\n",
    "print(game_type_probs)"
   ]
  },
  {
   "cell_type": "code",
   "execution_count": null,
   "metadata": {},
   "outputs": [],
   "source": []
  }
 ],
 "metadata": {
  "kernelspec": {
   "display_name": "jass-ai",
   "language": "python",
   "name": "python3"
  },
  "language_info": {
   "codemirror_mode": {
    "name": "ipython",
    "version": 3
   },
   "file_extension": ".py",
   "mimetype": "text/x-python",
   "name": "python",
   "nbconvert_exporter": "python",
   "pygments_lexer": "ipython3",
   "version": "3.11.10"
  }
 },
 "nbformat": 4,
 "nbformat_minor": 2
}
