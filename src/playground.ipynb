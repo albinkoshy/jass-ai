{
 "cells": [
  {
   "cell_type": "code",
   "execution_count": null,
   "metadata": {},
   "outputs": [],
   "source": [
    "from envs.card import Card, Rank\n",
    "from envs.deck import Deck\n",
    "\n",
    "deck = Deck()\n",
    "deck.cards"
   ]
  },
  {
   "cell_type": "code",
   "execution_count": 9,
   "metadata": {},
   "outputs": [
    {
     "name": "stdout",
     "output_type": "stream",
     "text": [
      "0.999995\n",
      "0.7787964023166892\n",
      "0.6065268688957787\n",
      "0.47236330522097375\n",
      "0.36787668207592394\n",
      "0.2865024690092762\n",
      "0.22312820776031353\n",
      "0.17377231432067458\n",
      "0.13533392988483717\n",
      "0.10539810469621436\n",
      "0.08208407516878548\n",
      "0.06392710206445243\n",
      "0.04978644603055721\n",
      "0.03877369892122625\n",
      "0.030196968209202663\n",
      "0.023517407789237707\n",
      "0.018315364154893966\n",
      "0.014264011031006735\n",
      "0.011108816017633518\n",
      "0.009999986730205385\n"
     ]
    }
   ],
   "source": [
    "epsilon_max: float = 1.0\n",
    "epsilon_min: float = 0.01\n",
    "epsilon_decay: float = 0.999995\n",
    "\n",
    "epsilon = epsilon_max\n",
    "\n",
    "for i in range(1000000):\n",
    "    if epsilon > epsilon_min:\n",
    "        epsilon *= epsilon_decay\n",
    "    \n",
    "    if i % 50000 == 0:\n",
    "        print(epsilon)"
   ]
  },
  {
   "cell_type": "code",
   "execution_count": 12,
   "metadata": {},
   "outputs": [
    {
     "name": "stdout",
     "output_type": "stream",
     "text": [
      "0.9999942435538359\n",
      "0.7498898926072469\n",
      "0.5623380881034402\n",
      "0.4216940759561049\n",
      "0.3162259456694708\n",
      "0.23713600549836059\n",
      "0.17782691734755438\n",
      "0.1333513755824503\n",
      "0.09999942435585575\n",
      "0.07498898926107836\n",
      "0.056233808810609416\n",
      "0.04216940759580898\n",
      "0.03162259456709568\n",
      "0.02371360054994717\n",
      "0.017782691734838697\n",
      "0.013335137558307505\n",
      "0.009999942435632455\n",
      "0.009999942435632455\n",
      "0.009999942435632455\n",
      "0.009999942435632455\n"
     ]
    }
   ],
   "source": [
    "n_episodes: int = 1000000\n",
    "\n",
    "epsilon_max: float = 1.0\n",
    "epsilon_min: float = 0.01\n",
    "\n",
    "epsilon_decay: float = epsilon_min ** (1 / (0.8 * n_episodes))\n",
    "\n",
    "epsilon = epsilon_max\n",
    "\n",
    "for i in range(n_episodes):\n",
    "    if epsilon > epsilon_min:\n",
    "        epsilon *= epsilon_decay\n",
    "    \n",
    "    if i % (n_episodes // 20) == 0:\n",
    "        print(epsilon)"
   ]
  },
  {
   "cell_type": "code",
   "execution_count": null,
   "metadata": {},
   "outputs": [
    {
     "ename": "TypeError",
     "evalue": "Random.randint() missing 1 required positional argument: 'b'",
     "output_type": "error",
     "traceback": [
      "\u001b[0;31m---------------------------------------------------------------------------\u001b[0m",
      "\u001b[0;31mTypeError\u001b[0m                                 Traceback (most recent call last)",
      "Cell \u001b[0;32mIn[16], line 3\u001b[0m\n\u001b[1;32m      1\u001b[0m \u001b[38;5;28;01mimport\u001b[39;00m \u001b[38;5;21;01mrandom\u001b[39;00m\n\u001b[0;32m----> 3\u001b[0m \u001b[43mrandom\u001b[49m\u001b[38;5;241;43m.\u001b[39;49m\u001b[43mrandint\u001b[49m\u001b[43m(\u001b[49m\u001b[38;5;241;43m999999\u001b[39;49m\u001b[43m)\u001b[49m\n",
      "\u001b[0;31mTypeError\u001b[0m: Random.randint() missing 1 required positional argument: 'b'"
     ]
    }
   ],
   "source": [
    "import random\n",
    "\n",
    "random.randint(1, 999999)"
   ]
  },
  {
   "cell_type": "code",
   "execution_count": null,
   "metadata": {},
   "outputs": [],
   "source": []
  }
 ],
 "metadata": {
  "kernelspec": {
   "display_name": "jass-ai",
   "language": "python",
   "name": "python3"
  },
  "language_info": {
   "codemirror_mode": {
    "name": "ipython",
    "version": 3
   },
   "file_extension": ".py",
   "mimetype": "text/x-python",
   "name": "python",
   "nbconvert_exporter": "python",
   "pygments_lexer": "ipython3",
   "version": "3.11.10"
  }
 },
 "nbformat": 4,
 "nbformat_minor": 2
}
