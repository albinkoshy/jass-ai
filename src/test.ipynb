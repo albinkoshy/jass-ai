{
 "cells": [
  {
   "cell_type": "code",
   "execution_count": 6,
   "metadata": {},
   "outputs": [
    {
     "name": "stdout",
     "output_type": "stream",
     "text": [
      "[🔔A, 🌰8, 🌼7, 🛡️ K, 🌰O]\n",
      "11\n",
      "8\n",
      "0\n",
      "4\n",
      "3\n"
     ]
    }
   ],
   "source": [
    "from card import Card, Rank\n",
    "from deck import Deck\n",
    "\n",
    "deck = Deck()\n",
    "deck.shuffle_deck()\n",
    "\n",
    "top_down_scoring = {\n",
    "            Rank.SECHS: 0,\n",
    "            Rank.SIEBEN: 0,\n",
    "            Rank.ACHT: 8,\n",
    "            Rank.NEUN: 0,\n",
    "            Rank.ZEHN: 10,\n",
    "            Rank.UNDER: 2,\n",
    "            Rank.OBER: 3,\n",
    "            Rank.KOENIG: 4,\n",
    "            Rank.ASS: 11,\n",
    "        }\n",
    "\n",
    "won_tricks = deck.cards[:5]\n",
    "print(won_tricks)\n",
    "for card in won_tricks:\n",
    "    print(top_down_scoring[card.get_rank()])"
   ]
  },
  {
   "cell_type": "code",
   "execution_count": null,
   "metadata": {},
   "outputs": [],
   "source": []
  }
 ],
 "metadata": {
  "kernelspec": {
   "display_name": "jass-ai",
   "language": "python",
   "name": "python3"
  },
  "language_info": {
   "codemirror_mode": {
    "name": "ipython",
    "version": 3
   },
   "file_extension": ".py",
   "mimetype": "text/x-python",
   "name": "python",
   "nbconvert_exporter": "python",
   "pygments_lexer": "ipython3",
   "version": "3.11.10"
  }
 },
 "nbformat": 4,
 "nbformat_minor": 2
}
