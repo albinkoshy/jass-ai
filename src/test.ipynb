{
 "cells": [
  {
   "cell_type": "code",
   "execution_count": 11,
   "metadata": {},
   "outputs": [],
   "source": [
    "from enum import Enum\n",
    "\n",
    "class Suit(Enum):\n",
    "    EICHEL = 0\n",
    "    SCHILTEN = 1\n",
    "    ROSEN = 2\n",
    "    SCHELLEN = 3\n",
    "\n",
    "class Rank(Enum):\n",
    "    SECHS = 0\n",
    "    SIEBEN = 1\n",
    "    ACHT = 2\n",
    "    NEUN = 3\n",
    "    ZEHN = 4\n",
    "    UNDER = 5\n",
    "    OBER = 6\n",
    "    KOENIG = 7\n",
    "    ASS = 8"
   ]
  },
  {
   "cell_type": "code",
   "execution_count": 13,
   "metadata": {},
   "outputs": [],
   "source": [
    "from card import Suit, Rank, Card\n",
    "import random\n",
    "\n",
    "\"\"\" Full Deck of Cards \"\"\"\n",
    "class Deck():\n",
    "    \n",
    "    def __init__(self):\n",
    "        self.cards = [Card(s, r) for s in Suit for r in Rank]\n",
    "        \n",
    "        # Shuffle the card deck\n",
    "        self.shuffle_deck()\n",
    "        \n",
    "    def shuffle_deck(self):\n",
    "        random.shuffle(self.cards)"
   ]
  },
  {
   "cell_type": "code",
   "execution_count": 14,
   "metadata": {},
   "outputs": [
    {
     "data": {
      "text/plain": [
       "[🔔8,\n",
       " 🔔6,\n",
       " 🛡️10,\n",
       " 🌰10,\n",
       " 🔔K,\n",
       " 🛡️U,\n",
       " 🌼9,\n",
       " 🌰8,\n",
       " 🌼U,\n",
       " 🌰7,\n",
       " 🔔10,\n",
       " 🌼6,\n",
       " 🌼8,\n",
       " 🌰A,\n",
       " 🌼K,\n",
       " 🛡️6,\n",
       " 🌼O,\n",
       " 🔔7,\n",
       " 🛡️O,\n",
       " 🔔U,\n",
       " 🛡️8,\n",
       " 🛡️9,\n",
       " 🌰K,\n",
       " 🛡️K,\n",
       " 🔔9,\n",
       " 🌰9,\n",
       " 🌼7,\n",
       " 🛡️A,\n",
       " 🌰6,\n",
       " 🌰O,\n",
       " 🌼10,\n",
       " 🔔A,\n",
       " 🔔O,\n",
       " 🌼A,\n",
       " 🌰U,\n",
       " 🛡️7]"
      ]
     },
     "execution_count": 14,
     "metadata": {},
     "output_type": "execute_result"
    }
   ],
   "source": [
    "d = Deck()\n",
    "d.cards"
   ]
  },
  {
   "cell_type": "code",
   "execution_count": null,
   "metadata": {},
   "outputs": [],
   "source": []
  },
  {
   "cell_type": "code",
   "execution_count": null,
   "metadata": {},
   "outputs": [],
   "source": []
  },
  {
   "cell_type": "code",
   "execution_count": 6,
   "metadata": {},
   "outputs": [
    {
     "data": {
      "text/plain": [
       "'8'"
      ]
     },
     "execution_count": 6,
     "metadata": {},
     "output_type": "execute_result"
    }
   ],
   "source": [
    "representation_rank = {\n",
    "            \"SECHS\" : \"6\",\n",
    "            \"SIEBEN\" : \"7\",\n",
    "            \"ACHT\" : \"8\",\n",
    "            \"NEUN\" : \"9\",\n",
    "            \"ZEHN\" : \"10\",\n",
    "            \"UNDER\" : \"U\",\n",
    "            \"OBER\" : \"O\",\n",
    "            \"KOENIG\" : \"K\",\n",
    "            \"ASS\" : \"A\"\n",
    "        }\n",
    "\n",
    "representation_rank[\"ACHT\"]"
   ]
  },
  {
   "cell_type": "code",
   "execution_count": null,
   "metadata": {},
   "outputs": [],
   "source": []
  },
  {
   "cell_type": "code",
   "execution_count": null,
   "metadata": {},
   "outputs": [],
   "source": []
  },
  {
   "cell_type": "code",
   "execution_count": null,
   "metadata": {},
   "outputs": [],
   "source": []
  },
  {
   "cell_type": "code",
   "execution_count": null,
   "metadata": {},
   "outputs": [],
   "source": []
  },
  {
   "cell_type": "code",
   "execution_count": null,
   "metadata": {},
   "outputs": [],
   "source": []
  },
  {
   "cell_type": "code",
   "execution_count": null,
   "metadata": {},
   "outputs": [],
   "source": []
  },
  {
   "cell_type": "code",
   "execution_count": null,
   "metadata": {},
   "outputs": [],
   "source": []
  },
  {
   "cell_type": "code",
   "execution_count": null,
   "metadata": {},
   "outputs": [],
   "source": []
  },
  {
   "cell_type": "code",
   "execution_count": null,
   "metadata": {},
   "outputs": [],
   "source": []
  },
  {
   "cell_type": "code",
   "execution_count": null,
   "metadata": {},
   "outputs": [],
   "source": []
  },
  {
   "cell_type": "code",
   "execution_count": null,
   "metadata": {},
   "outputs": [],
   "source": []
  },
  {
   "cell_type": "code",
   "execution_count": null,
   "metadata": {},
   "outputs": [],
   "source": []
  },
  {
   "cell_type": "code",
   "execution_count": null,
   "metadata": {},
   "outputs": [],
   "source": []
  },
  {
   "cell_type": "code",
   "execution_count": null,
   "metadata": {},
   "outputs": [],
   "source": []
  },
  {
   "cell_type": "code",
   "execution_count": null,
   "metadata": {},
   "outputs": [],
   "source": []
  },
  {
   "cell_type": "code",
   "execution_count": null,
   "metadata": {},
   "outputs": [],
   "source": []
  },
  {
   "cell_type": "code",
   "execution_count": null,
   "metadata": {},
   "outputs": [],
   "source": []
  },
  {
   "cell_type": "code",
   "execution_count": null,
   "metadata": {},
   "outputs": [],
   "source": []
  },
  {
   "cell_type": "code",
   "execution_count": null,
   "metadata": {},
   "outputs": [],
   "source": []
  },
  {
   "cell_type": "code",
   "execution_count": null,
   "metadata": {},
   "outputs": [],
   "source": []
  }
 ],
 "metadata": {
  "kernelspec": {
   "display_name": "Python 3",
   "language": "python",
   "name": "python3"
  },
  "language_info": {
   "codemirror_mode": {
    "name": "ipython",
    "version": 3
   },
   "file_extension": ".py",
   "mimetype": "text/x-python",
   "name": "python",
   "nbconvert_exporter": "python",
   "pygments_lexer": "ipython3",
   "version": "3.9.6"
  }
 },
 "nbformat": 4,
 "nbformat_minor": 2
}
