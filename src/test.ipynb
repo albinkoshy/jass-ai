{
 "cells": [
  {
   "cell_type": "code",
   "execution_count": 3,
   "metadata": {},
   "outputs": [
    {
     "data": {
      "text/plain": [
       "[🌰8,\n",
       " 🌰U,\n",
       " 🌼O,\n",
       " 🌰10,\n",
       " 🔔A,\n",
       " 🌰O,\n",
       " 🛡️ 6,\n",
       " 🔔U,\n",
       " 🌼K,\n",
       " 🌰9,\n",
       " 🛡️ 9,\n",
       " 🔔10,\n",
       " 🌼6,\n",
       " 🌼U,\n",
       " 🌰A,\n",
       " 🌼10,\n",
       " 🔔7,\n",
       " 🔔6,\n",
       " 🛡️ 7,\n",
       " 🌰7,\n",
       " 🌼9,\n",
       " 🔔K,\n",
       " 🔔O,\n",
       " 🔔9,\n",
       " 🛡️ A,\n",
       " 🌰K,\n",
       " 🛡️ 8,\n",
       " 🛡️ K,\n",
       " 🌰6,\n",
       " 🛡️ O,\n",
       " 🌼7,\n",
       " 🌼8,\n",
       " 🔔8,\n",
       " 🛡️ 10,\n",
       " 🌼A,\n",
       " 🛡️ U]"
      ]
     },
     "execution_count": 3,
     "metadata": {},
     "output_type": "execute_result"
    }
   ],
   "source": [
    "from envs.card import Card, Rank\n",
    "from envs.deck import Deck\n",
    "\n",
    "deck = Deck()\n",
    "deck.cards"
   ]
  },
  {
   "cell_type": "code",
   "execution_count": 4,
   "metadata": {},
   "outputs": [
    {
     "data": {
      "text/plain": [
       "[🌼6,\n",
       " 🌼7,\n",
       " 🌼8,\n",
       " 🌼9,\n",
       " 🌼10,\n",
       " 🌼U,\n",
       " 🌼O,\n",
       " 🌼K,\n",
       " 🌼A,\n",
       " 🛡️ 6,\n",
       " 🛡️ 7,\n",
       " 🛡️ 8,\n",
       " 🛡️ 9,\n",
       " 🛡️ 10,\n",
       " 🛡️ U,\n",
       " 🛡️ O,\n",
       " 🛡️ K,\n",
       " 🛡️ A,\n",
       " 🌰6,\n",
       " 🌰7,\n",
       " 🌰8,\n",
       " 🌰9,\n",
       " 🌰10,\n",
       " 🌰U,\n",
       " 🌰O,\n",
       " 🌰K,\n",
       " 🌰A,\n",
       " 🔔6,\n",
       " 🔔7,\n",
       " 🔔8,\n",
       " 🔔9,\n",
       " 🔔10,\n",
       " 🔔U,\n",
       " 🔔O,\n",
       " 🔔K,\n",
       " 🔔A]"
      ]
     },
     "execution_count": 4,
     "metadata": {},
     "output_type": "execute_result"
    }
   ],
   "source": [
    "deck.order_deck()\n",
    "\n",
    "deck.cards"
   ]
  },
  {
   "cell_type": "code",
   "execution_count": 2,
   "metadata": {},
   "outputs": [
    {
     "name": "stdout",
     "output_type": "stream",
     "text": [
      "0\n",
      "0\n",
      "1\n",
      "1\n",
      "2\n",
      "2\n",
      "3\n",
      "3\n"
     ]
    }
   ],
   "source": [
    "trick = {\"P0\": 0, \"P1\": 1, \"P2\": 2, \"P3\": 3}\n",
    "\n",
    "for idx, card in enumerate(trick.values()):\n",
    "    print(idx)\n",
    "    print(card)"
   ]
  },
  {
   "cell_type": "code",
   "execution_count": 4,
   "metadata": {},
   "outputs": [
    {
     "name": "stdout",
     "output_type": "stream",
     "text": [
      "P1 played 🌼O\n",
      "P2 played 🌼8\n",
      "P3 played 🌼9\n",
      "[[[1. 1. 0. 0. 0. 0. 0. 0. 0. 1. 0. 0. 1. 0. 0. 0. 0. 0. 0. 1. 1. 0. 0.\n",
      "   1. 0. 0. 1. 0. 0. 0. 1. 0. 0. 0. 0. 0.]\n",
      "  [0. 0. 0. 0. 0. 0. 0. 1. 0. 0. 1. 0. 0. 0. 0. 0. 0. 0. 0. 0. 0. 0. 0.\n",
      "   0. 0. 1. 0. 0. 1. 0. 0. 1. 0. 1. 1. 1.]\n",
      "  [0. 0. 0. 0. 0. 1. 0. 0. 0. 0. 0. 1. 0. 1. 1. 1. 1. 1. 0. 0. 0. 0. 0.\n",
      "   0. 0. 0. 0. 0. 0. 0. 0. 0. 1. 0. 0. 0.]\n",
      "  [0. 0. 0. 0. 1. 0. 0. 0. 1. 0. 0. 0. 0. 0. 0. 0. 0. 0. 1. 0. 0. 1. 1.\n",
      "   0. 1. 0. 0. 1. 0. 1. 0. 0. 0. 0. 0. 0.]]\n",
      "\n",
      " [[0. 0. 0. 0. 0. 0. 0. 0. 0. 0. 0. 0. 0. 0. 0. 0. 0. 0. 0. 0. 0. 0. 0.\n",
      "   0. 0. 0. 0. 0. 0. 0. 0. 0. 0. 0. 0. 0.]\n",
      "  [0. 0. 0. 0. 0. 0. 0. 0. 0. 0. 0. 0. 0. 0. 0. 0. 0. 0. 0. 0. 0. 0. 0.\n",
      "   0. 0. 0. 0. 0. 0. 0. 0. 0. 0. 0. 0. 0.]\n",
      "  [0. 0. 1. 0. 0. 0. 0. 0. 0. 0. 0. 0. 0. 0. 0. 0. 0. 0. 0. 0. 0. 0. 0.\n",
      "   0. 0. 0. 0. 0. 0. 0. 0. 0. 0. 0. 0. 0.]\n",
      "  [0. 0. 0. 1. 0. 0. 0. 0. 0. 0. 0. 0. 0. 0. 0. 0. 0. 0. 0. 0. 0. 0. 0.\n",
      "   0. 0. 0. 0. 0. 0. 0. 0. 0. 0. 0. 0. 0.]]\n",
      "\n",
      " [[0. 0. 0. 0. 0. 0. 0. 0. 0. 0. 0. 0. 0. 0. 0. 0. 0. 0. 0. 0. 0. 0. 0.\n",
      "   0. 0. 0. 0. 0. 0. 0. 0. 0. 0. 0. 0. 0.]\n",
      "  [0. 0. 0. 0. 0. 0. 1. 0. 0. 0. 0. 0. 0. 0. 0. 0. 0. 0. 0. 0. 0. 0. 0.\n",
      "   0. 0. 0. 0. 0. 0. 0. 0. 0. 0. 0. 0. 0.]\n",
      "  [0. 0. 0. 0. 0. 0. 0. 0. 0. 0. 0. 0. 0. 0. 0. 0. 0. 0. 0. 0. 0. 0. 0.\n",
      "   0. 0. 0. 0. 0. 0. 0. 0. 0. 0. 0. 0. 0.]\n",
      "  [0. 0. 0. 0. 0. 0. 0. 0. 0. 0. 0. 0. 0. 0. 0. 0. 0. 0. 0. 0. 0. 0. 0.\n",
      "   0. 0. 0. 0. 0. 0. 0. 0. 0. 0. 0. 0. 0.]]\n",
      "\n",
      " [[0. 0. 0. 0. 0. 0. 0. 0. 0. 0. 0. 0. 0. 0. 0. 0. 0. 0. 0. 0. 0. 0. 0.\n",
      "   0. 0. 0. 0. 0. 0. 0. 0. 0. 0. 0. 0. 0.]\n",
      "  [0. 0. 0. 0. 0. 0. 0. 0. 0. 0. 0. 0. 0. 0. 0. 0. 0. 0. 0. 0. 0. 0. 0.\n",
      "   0. 0. 0. 0. 0. 0. 0. 0. 0. 0. 0. 0. 0.]\n",
      "  [0. 0. 0. 0. 0. 0. 0. 0. 0. 0. 0. 0. 0. 0. 0. 0. 0. 0. 0. 0. 0. 0. 0.\n",
      "   0. 0. 0. 0. 0. 0. 0. 0. 0. 0. 0. 0. 0.]\n",
      "  [0. 0. 0. 0. 0. 0. 0. 0. 0. 0. 0. 0. 0. 0. 0. 0. 0. 0. 0. 0. 0. 0. 0.\n",
      "   0. 0. 0. 0. 0. 0. 0. 0. 0. 0. 0. 0. 0.]]]\n"
     ]
    }
   ],
   "source": [
    "from envs.env import JassEnv\n",
    "\n",
    "players = {\"P1\": \"random\", \"P2\": \"greedy\", \"P3\": \"random\"}\n",
    "# Create game instance and play one round of Jass\n",
    "env = JassEnv(starting_player_id=1, players=players)\n",
    "state = env.reset()"
   ]
  },
  {
   "cell_type": "code",
   "execution_count": 22,
   "metadata": {},
   "outputs": [
    {
     "ename": "IndexError",
     "evalue": "index 0 is out of bounds for axis 0 with size 0",
     "output_type": "error",
     "traceback": [
      "\u001b[0;31m---------------------------------------------------------------------------\u001b[0m",
      "\u001b[0;31mIndexError\u001b[0m                                Traceback (most recent call last)",
      "Cell \u001b[0;32mIn[22], line 11\u001b[0m\n\u001b[1;32m      8\u001b[0m state[\u001b[38;5;241m1\u001b[39m, \u001b[38;5;241m2\u001b[39m, \u001b[38;5;241m15\u001b[39m] \u001b[38;5;241m=\u001b[39m \u001b[38;5;241m1\u001b[39m\n\u001b[1;32m     10\u001b[0m index \u001b[38;5;241m=\u001b[39m np\u001b[38;5;241m.\u001b[39mwhere(state[\u001b[38;5;241m2\u001b[39m, :, :] \u001b[38;5;241m==\u001b[39m \u001b[38;5;241m1\u001b[39m)[\u001b[38;5;241m1\u001b[39m]\n\u001b[0;32m---> 11\u001b[0m \u001b[38;5;28mprint\u001b[39m(\u001b[43mindex\u001b[49m\u001b[43m[\u001b[49m\u001b[38;5;241;43m0\u001b[39;49m\u001b[43m]\u001b[49m)\n",
      "\u001b[0;31mIndexError\u001b[0m: index 0 is out of bounds for axis 0 with size 0"
     ]
    }
   ],
   "source": [
    "import numpy as np\n",
    "\n",
    "state = np.zeros((4, 4, 36))\n",
    "\n",
    "state[0, 0, 24] = 1\n",
    "state[0, 0, 34] = 1\n",
    "state[0, 0, 10] = 1\n",
    "state[1, 2, 15] = 1\n",
    "\n",
    "index = np.where(state[2, :, :] == 1)[1]\n",
    "print(index[0])"
   ]
  },
  {
   "cell_type": "code",
   "execution_count": 26,
   "metadata": {},
   "outputs": [
    {
     "name": "stdout",
     "output_type": "stream",
     "text": [
      "{'P0': None, 'P1': 'nlel', 'P2': None, 'P3': None}\n",
      "{'P0': None, 'P1': None, 'P2': None, 'P3': None}\n"
     ]
    }
   ],
   "source": [
    "from envs.trick import Trick\n",
    "\n",
    "t1 = Trick(1)\n",
    "t1.trick[\"P1\"] = \"nlel\"\n",
    "\n",
    "print(t1.trick)\n",
    "\n",
    "t1 = Trick(1)\n",
    "\n",
    "print(t1.trick)"
   ]
  },
  {
   "cell_type": "code",
   "execution_count": 27,
   "metadata": {},
   "outputs": [
    {
     "name": "stdout",
     "output_type": "stream",
     "text": [
      "[5 3 8 0 7]\n"
     ]
    }
   ],
   "source": [
    "import numpy as np\n",
    "\n",
    "arr = np.array([5, 12, 3, 25, 8, 0, 9, 30, 7])  # Example array\n",
    "\n",
    "filtered_arr = arr[(arr >= 0) & (arr <= 8)]\n",
    "print(filtered_arr)"
   ]
  },
  {
   "cell_type": "code",
   "execution_count": 32,
   "metadata": {},
   "outputs": [],
   "source": [
    "def func(hand):\n",
    "    valid_hand = hand\n",
    "    return valid_hand if valid_hand else \"lel\""
   ]
  },
  {
   "cell_type": "code",
   "execution_count": 45,
   "metadata": {},
   "outputs": [
    {
     "name": "stdout",
     "output_type": "stream",
     "text": [
      "[[[0 0 1 0]\n",
      "  [0 0 0 0]\n",
      "  [0 0 0 1]\n",
      "  [0 0 0 0]]\n",
      "\n",
      " [[0 0 0 1]\n",
      "  [0 0 1 0]\n",
      "  [0 0 0 0]\n",
      "  [0 0 0 0]]\n",
      "\n",
      " [[0 0 0 1]\n",
      "  [0 1 0 0]\n",
      "  [0 0 0 0]\n",
      "  [0 0 0 0]]\n",
      "\n",
      " [[0 0 0 0]\n",
      "  [0 0 0 0]\n",
      "  [0 0 0 0]\n",
      "  [0 0 0 0]]]\n",
      "[[[0 0 1 0]\n",
      "  [0 0 0 0]\n",
      "  [0 0 0 1]\n",
      "  [0 0 0 0]]\n",
      "\n",
      " [[0 0 0 0]\n",
      "  [0 0 0 0]\n",
      "  [0 0 0 0]\n",
      "  [0 0 0 0]]\n",
      "\n",
      " [[0 0 0 0]\n",
      "  [0 0 0 0]\n",
      "  [0 0 0 0]\n",
      "  [0 0 0 0]]\n",
      "\n",
      " [[0 0 0 1]\n",
      "  [0 1 1 0]\n",
      "  [0 0 0 0]\n",
      "  [0 0 0 0]]]\n"
     ]
    }
   ],
   "source": [
    "state = np.zeros((4, 4, 4), dtype=int)\n",
    "\n",
    "state[0, 2, 3] = 1\n",
    "state[0, 0, 2] = 1\n",
    "\n",
    "state[1, 1, 2] = 1\n",
    "state[1, 0, 3] = 1\n",
    "\n",
    "state[2, 0, 3] = 1\n",
    "state[2, 1, 1] = 1\n",
    "\n",
    "print(state)\n",
    "\n",
    "state[3, :, :] = state[1, :, :] | state[3, :, :]\n",
    "state[1, :, :] = 0\n",
    "\n",
    "state[3, :, :] = state[2, :, :] | state[3, :, :]\n",
    "state[2, :, :] = 0\n",
    "\n",
    "print(state)"
   ]
  },
  {
   "cell_type": "code",
   "execution_count": 43,
   "metadata": {},
   "outputs": [
    {
     "name": "stdout",
     "output_type": "stream",
     "text": [
      "[[0 0 0 0 0 1 0 0 0 0 0 0 0 0 0 0 0 0 0 0 0 0 0 0 0 0 0 0 0 0 0 0 0 0 0 0]\n",
      " [0 0 0 0 0 0 0 0 0 0 0 0 0 0 0 0 0 0 0 0 0 0 0 0 0 0 0 0 0 0 0 0 0 0 0 0]\n",
      " [0 0 0 0 0 0 0 0 0 0 0 0 0 0 0 0 0 0 0 0 0 0 0 0 0 0 0 0 0 0 0 0 0 0 0 0]\n",
      " [0 0 0 0 0 0 0 0 0 0 0 0 0 0 0 0 0 0 0 0 0 0 0 0 0 0 0 0 0 0 0 0 0 0 0 0]]\n"
     ]
    }
   ],
   "source": [
    "import numpy as np\n",
    "\n",
    "# Example 3D array\n",
    "arr = np.zeros((4, 4, 36), dtype=int)\n",
    "\n",
    "# Assuming arr has some data\n",
    "arr[1, 0, 5] = 1  # Example data in the 2nd row (index 1)\n",
    "arr[3, 0, 5] = 1  # Example data in the 4th row (index 3)\n",
    "\n",
    "# Perform element-wise OR between arr[1, :, :] and arr[3, :, :]\n",
    "arr[3, :, :] = arr[1, :, :] | arr[3, :, :]\n",
    "\n",
    "print(arr[3, :, :])\n"
   ]
  },
  {
   "cell_type": "code",
   "execution_count": 22,
   "metadata": {},
   "outputs": [],
   "source": [
    "from collections import namedtuple\n",
    "from utils import ReplayMemory\n",
    "import numpy as np\n",
    "\n",
    "\n",
    "memory = ReplayMemory(1000)\n",
    "\n",
    "for i in range(100):\n",
    "    state = np.random.rand(4, 4, 36)\n",
    "    action = np.random.randint(0, 35)\n",
    "    reward = np.random.rand()\n",
    "    next_state = np.random.rand(4, 4, 36)\n",
    "    done = False\n",
    "    memory.push(state, action, reward, next_state, done)\n",
    "\n",
    "states, actions, rewards, next_states, dones = memory.sample(5, split_transitions=True)"
   ]
  },
  {
   "cell_type": "code",
   "execution_count": 31,
   "metadata": {},
   "outputs": [
    {
     "data": {
      "text/plain": [
       "tensor([0., 0., 0., 0., 0.])"
      ]
     },
     "execution_count": 31,
     "metadata": {},
     "output_type": "execute_result"
    }
   ],
   "source": [
    "dones"
   ]
  },
  {
   "cell_type": "code",
   "execution_count": 68,
   "metadata": {},
   "outputs": [
    {
     "name": "stdout",
     "output_type": "stream",
     "text": [
      "tensor([[0.2627, 0.3538, 0.7330, 0.0794, 0.9996, 0.5533, 0.5827, 0.2839, 0.9667,\n",
      "         0.4710, 0.7368, 0.8662, 0.2876, 0.9145, 0.1615, 0.6291, 0.8013, 0.2216,\n",
      "         0.7836, 0.1251, 0.7408, 0.4388, 0.4810, 0.0318, 0.8823, 0.8841, 0.3909,\n",
      "         0.2951, 0.6111, 0.0376, 0.9160, 0.0106, 0.5979, 0.2428, 0.7499, 0.1121,\n",
      "         0.7618, 0.7970, 0.4367, 0.9152, 0.4834, 0.1543, 0.6906, 0.8065, 0.5187,\n",
      "         0.2414, 0.6142, 0.0561, 0.9257, 0.5726, 0.2431, 0.9832, 0.4120, 0.7830,\n",
      "         0.6820, 0.3449, 0.9792, 0.3853, 0.8299, 0.6535, 0.4859, 0.3436, 0.5629,\n",
      "         0.5510, 0.4648, 0.3291, 0.5803, 0.2754, 0.2618, 0.6265, 0.4055, 0.7241,\n",
      "         0.7346, 0.1448, 0.6072, 0.5419, 0.8091, 0.9321, 0.7157, 0.6490, 0.6734,\n",
      "         0.3420, 0.1550, 0.2665, 0.5886, 0.1563, 0.1623, 0.2285, 0.0997, 0.1196,\n",
      "         0.7305, 0.7185, 0.4358, 0.6162, 0.9074, 0.8604, 0.9261, 0.7069, 0.9828,\n",
      "         0.7114, 0.9739, 0.4621, 0.2288, 0.2982, 0.6320, 0.0877, 0.7759, 0.6496,\n",
      "         0.1329, 0.2122, 0.4562, 0.9909, 0.1495, 0.8040, 0.1428, 0.0607, 0.2801,\n",
      "         0.1625, 0.1909, 0.3838, 0.5771, 0.7203, 0.1354, 0.5723, 0.5396, 0.6711,\n",
      "         0.0408, 0.5181, 0.1595, 0.5171, 0.3120, 0.1426, 0.0905, 0.8204, 0.4824,\n",
      "         0.6254, 0.1154, 0.4492, 0.2093, 0.2212, 0.8602, 0.1025, 0.0567, 0.7427,\n",
      "         0.1043, 0.3067, 0.1969, 0.7263, 0.6969, 0.7618, 0.2796, 0.0227, 0.6533,\n",
      "         0.1875, 0.5821, 0.9042, 0.0043, 0.3642, 0.7749, 0.7111, 0.8153, 0.6285,\n",
      "         0.4775, 0.5207, 0.9358, 0.7965, 0.4904, 0.0580, 0.7652, 0.4747, 0.4408,\n",
      "         0.6954, 0.0770, 0.3924, 0.0225, 0.0897, 0.5696, 0.0810, 0.9936, 0.7202,\n",
      "         0.1741, 0.6860, 0.6129, 0.4719, 0.5984, 0.9864, 0.5345, 0.1137, 0.3472,\n",
      "         0.3286, 0.9728, 0.5511, 0.5800, 0.3366, 0.1656, 0.9767, 0.5065, 0.2673,\n",
      "         0.9492, 0.0613, 0.7596, 0.2512, 0.7975, 0.7256, 0.4185, 0.5472, 0.7690,\n",
      "         0.6254, 0.1725, 0.5451, 0.8441, 0.3688, 0.2546, 0.4612, 0.4526, 0.0397,\n",
      "         0.7257, 0.2673, 0.8487, 0.3472, 0.7018, 0.4294, 0.7255, 0.9051, 0.5046,\n",
      "         0.7170, 0.1977, 0.2786, 0.6236, 0.9848, 0.1482, 0.1129, 0.2908, 0.0468,\n",
      "         0.3213, 0.8358, 0.3575, 0.1988, 0.1576, 0.5786, 0.8135, 0.9076, 0.1227,\n",
      "         0.4077, 0.5974, 0.5330, 0.6938, 0.0538, 0.4019, 0.6833, 0.0194, 0.8176,\n",
      "         0.4104, 0.0220, 0.4712, 0.3131, 0.2308, 0.9909, 0.1977, 0.9815, 0.3356,\n",
      "         0.4154, 0.7934, 0.9330, 0.1155, 0.9618, 0.4538, 0.6591, 0.2564, 0.8716,\n",
      "         0.2101, 0.6635, 0.8588, 0.6715, 0.4930, 0.1751, 0.4711, 0.3744, 0.3714,\n",
      "         0.9351, 0.5407, 0.6935, 0.0555, 0.4311, 0.0128, 0.4567, 0.5968, 0.8633,\n",
      "         0.6459, 0.7133, 0.5708, 0.3016, 0.0302, 0.7899, 0.8367, 0.1534, 0.0669,\n",
      "         0.1927, 0.7883, 0.0639, 0.1940, 0.8119, 0.5782, 0.1253, 0.8677, 0.6035,\n",
      "         0.2777, 0.8316, 0.0251, 0.5699, 0.2683, 0.9979, 0.1130, 0.0961, 0.2235,\n",
      "         0.8820, 0.1805, 0.5780, 0.7150, 0.3400, 0.9431, 0.2078, 0.2635, 0.6215,\n",
      "         0.5098, 0.6990, 0.2985, 0.2610, 0.8239, 0.1339, 0.0490, 0.3955, 0.7544,\n",
      "         0.3221, 0.3260, 0.9493, 0.7397, 0.0365, 0.7278, 0.0126, 0.8991, 0.4427,\n",
      "         0.5725, 0.4178, 0.3059, 0.2840, 0.7206, 0.4173, 0.4596, 0.8493, 0.4288,\n",
      "         0.2662, 0.5537, 0.5088, 0.6068, 0.9471, 0.5541, 0.8440, 0.6047, 0.9243,\n",
      "         0.8751, 0.5301, 0.2387, 0.0252, 0.1073, 0.6745, 0.1292, 0.5604, 0.0767,\n",
      "         0.9492, 0.5091, 0.4150, 0.8496, 0.9981, 0.8631, 0.7428, 0.7788, 0.9408,\n",
      "         0.2540, 0.4578, 0.1620, 0.8527, 0.1363, 0.2586, 0.3736, 0.5114, 0.5474,\n",
      "         0.7085, 0.9639, 0.8523, 0.5508, 0.7662, 0.6028, 0.7688, 0.5763, 0.8602,\n",
      "         0.2138, 0.5135, 0.3929, 0.9570, 0.4116, 0.6840, 0.9039, 0.8210, 0.3809,\n",
      "         0.9593, 0.3573, 0.1874, 0.0518, 0.5412, 0.2163, 0.3115, 0.9308, 0.5618,\n",
      "         0.1470, 0.5798, 0.0587, 0.2251, 0.9334, 0.5263, 0.3636, 0.0959, 0.6590,\n",
      "         0.4681, 0.8581, 0.1526, 0.6071, 0.6519, 0.4451, 0.3401, 0.6371, 0.3649,\n",
      "         0.0000, 0.0000, 1.0000, 0.0000, 1.0000, 0.0000, 0.0000, 0.0000, 0.0000,\n",
      "         0.0000, 0.0000]])\n"
     ]
    }
   ],
   "source": [
    "import numpy as np\n",
    "import torch\n",
    "\n",
    "# Sample list with integers and np.ndarray elements of shape (3, 4, 36)\n",
    "state = [np.random.rand(3, 4, 36), 2, 0]\n",
    "\n",
    "card_distribution = state[0]\n",
    "leading_player_id = state[1]  # Player who played the first card in the trick\n",
    "play_style = state[2]\n",
    "\n",
    "flattened_state = np.concatenate([np.ravel(card_distribution), np.eye(4)[leading_player_id], np.eye(7)[play_style]])\n",
    "state = torch.tensor(flattened_state, dtype=torch.float).reshape(1, -1)\n",
    "\n",
    "print(state)"
   ]
  },
  {
   "cell_type": "code",
   "execution_count": 64,
   "metadata": {},
   "outputs": [
    {
     "data": {
      "text/plain": [
       "443"
      ]
     },
     "execution_count": 64,
     "metadata": {},
     "output_type": "execute_result"
    }
   ],
   "source": [
    "3*4*36 + 4 + 7"
   ]
  },
  {
   "cell_type": "code",
   "execution_count": 70,
   "metadata": {},
   "outputs": [
    {
     "data": {
      "text/plain": [
       "tensor([0., 1., 0., 0., 1.])"
      ]
     },
     "execution_count": 70,
     "metadata": {},
     "output_type": "execute_result"
    }
   ],
   "source": [
    "dones = [False, True, False, False, True]\n",
    "torch.tensor(dones, dtype=torch.float32)"
   ]
  },
  {
   "cell_type": "code",
   "execution_count": 5,
   "metadata": {},
   "outputs": [
    {
     "data": {
      "text/plain": [
       "[1, 2, 5]"
      ]
     },
     "execution_count": 5,
     "metadata": {},
     "output_type": "execute_result"
    }
   ],
   "source": [
    "import numpy as np\n",
    "\n",
    "# Example 3D array\n",
    "arr = np.zeros((3, 4, 36), dtype=int)\n",
    "# Some elements are set to 1\n",
    "arr[0, 0, 5] = 1\n",
    "arr[0, 0, 1] = 1\n",
    "arr[0, 0, 2] = 1\n",
    "arr[0, 1, 10] = 1\n",
    "arr[1, 2, 15] = 1\n",
    "arr[2, 3, 20] = 1\n",
    "\n",
    "# Get the indices of the elements that are set to 1\n",
    "indices = np.where(arr[0, 0, :] == 1)\n",
    "indices[0].tolist()"
   ]
  },
  {
   "cell_type": "code",
   "execution_count": null,
   "metadata": {},
   "outputs": [],
   "source": []
  }
 ],
 "metadata": {
  "kernelspec": {
   "display_name": "jass-ai",
   "language": "python",
   "name": "python3"
  },
  "language_info": {
   "codemirror_mode": {
    "name": "ipython",
    "version": 3
   },
   "file_extension": ".py",
   "mimetype": "text/x-python",
   "name": "python",
   "nbconvert_exporter": "python",
   "pygments_lexer": "ipython3",
   "version": "3.11.10"
  }
 },
 "nbformat": 4,
 "nbformat_minor": 2
}
