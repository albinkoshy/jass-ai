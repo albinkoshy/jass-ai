{
 "cells": [
  {
   "cell_type": "code",
   "execution_count": 3,
   "metadata": {},
   "outputs": [
    {
     "data": {
      "text/plain": [
       "[🌰8,\n",
       " 🌰U,\n",
       " 🌼O,\n",
       " 🌰10,\n",
       " 🔔A,\n",
       " 🌰O,\n",
       " 🛡️ 6,\n",
       " 🔔U,\n",
       " 🌼K,\n",
       " 🌰9,\n",
       " 🛡️ 9,\n",
       " 🔔10,\n",
       " 🌼6,\n",
       " 🌼U,\n",
       " 🌰A,\n",
       " 🌼10,\n",
       " 🔔7,\n",
       " 🔔6,\n",
       " 🛡️ 7,\n",
       " 🌰7,\n",
       " 🌼9,\n",
       " 🔔K,\n",
       " 🔔O,\n",
       " 🔔9,\n",
       " 🛡️ A,\n",
       " 🌰K,\n",
       " 🛡️ 8,\n",
       " 🛡️ K,\n",
       " 🌰6,\n",
       " 🛡️ O,\n",
       " 🌼7,\n",
       " 🌼8,\n",
       " 🔔8,\n",
       " 🛡️ 10,\n",
       " 🌼A,\n",
       " 🛡️ U]"
      ]
     },
     "execution_count": 3,
     "metadata": {},
     "output_type": "execute_result"
    }
   ],
   "source": [
    "from envs.card import Card, Rank\n",
    "from envs.deck import Deck\n",
    "\n",
    "deck = Deck()\n",
    "deck.cards"
   ]
  },
  {
   "cell_type": "code",
   "execution_count": 4,
   "metadata": {},
   "outputs": [
    {
     "data": {
      "text/plain": [
       "[🌼6,\n",
       " 🌼7,\n",
       " 🌼8,\n",
       " 🌼9,\n",
       " 🌼10,\n",
       " 🌼U,\n",
       " 🌼O,\n",
       " 🌼K,\n",
       " 🌼A,\n",
       " 🛡️ 6,\n",
       " 🛡️ 7,\n",
       " 🛡️ 8,\n",
       " 🛡️ 9,\n",
       " 🛡️ 10,\n",
       " 🛡️ U,\n",
       " 🛡️ O,\n",
       " 🛡️ K,\n",
       " 🛡️ A,\n",
       " 🌰6,\n",
       " 🌰7,\n",
       " 🌰8,\n",
       " 🌰9,\n",
       " 🌰10,\n",
       " 🌰U,\n",
       " 🌰O,\n",
       " 🌰K,\n",
       " 🌰A,\n",
       " 🔔6,\n",
       " 🔔7,\n",
       " 🔔8,\n",
       " 🔔9,\n",
       " 🔔10,\n",
       " 🔔U,\n",
       " 🔔O,\n",
       " 🔔K,\n",
       " 🔔A]"
      ]
     },
     "execution_count": 4,
     "metadata": {},
     "output_type": "execute_result"
    }
   ],
   "source": [
    "deck.order_deck()\n",
    "\n",
    "deck.cards"
   ]
  },
  {
   "cell_type": "code",
   "execution_count": 2,
   "metadata": {},
   "outputs": [
    {
     "name": "stdout",
     "output_type": "stream",
     "text": [
      "0\n",
      "0\n",
      "1\n",
      "1\n",
      "2\n",
      "2\n",
      "3\n",
      "3\n"
     ]
    }
   ],
   "source": [
    "trick = {\"P0\": 0, \"P1\": 1, \"P2\": 2, \"P3\": 3}\n",
    "\n",
    "for idx, card in enumerate(trick.values()):\n",
    "    print(idx)\n",
    "    print(card)"
   ]
  },
  {
   "cell_type": "code",
   "execution_count": 4,
   "metadata": {},
   "outputs": [
    {
     "name": "stdout",
     "output_type": "stream",
     "text": [
      "P1 played 🌼O\n",
      "P2 played 🌼8\n",
      "P3 played 🌼9\n",
      "[[[1. 1. 0. 0. 0. 0. 0. 0. 0. 1. 0. 0. 1. 0. 0. 0. 0. 0. 0. 1. 1. 0. 0.\n",
      "   1. 0. 0. 1. 0. 0. 0. 1. 0. 0. 0. 0. 0.]\n",
      "  [0. 0. 0. 0. 0. 0. 0. 1. 0. 0. 1. 0. 0. 0. 0. 0. 0. 0. 0. 0. 0. 0. 0.\n",
      "   0. 0. 1. 0. 0. 1. 0. 0. 1. 0. 1. 1. 1.]\n",
      "  [0. 0. 0. 0. 0. 1. 0. 0. 0. 0. 0. 1. 0. 1. 1. 1. 1. 1. 0. 0. 0. 0. 0.\n",
      "   0. 0. 0. 0. 0. 0. 0. 0. 0. 1. 0. 0. 0.]\n",
      "  [0. 0. 0. 0. 1. 0. 0. 0. 1. 0. 0. 0. 0. 0. 0. 0. 0. 0. 1. 0. 0. 1. 1.\n",
      "   0. 1. 0. 0. 1. 0. 1. 0. 0. 0. 0. 0. 0.]]\n",
      "\n",
      " [[0. 0. 0. 0. 0. 0. 0. 0. 0. 0. 0. 0. 0. 0. 0. 0. 0. 0. 0. 0. 0. 0. 0.\n",
      "   0. 0. 0. 0. 0. 0. 0. 0. 0. 0. 0. 0. 0.]\n",
      "  [0. 0. 0. 0. 0. 0. 0. 0. 0. 0. 0. 0. 0. 0. 0. 0. 0. 0. 0. 0. 0. 0. 0.\n",
      "   0. 0. 0. 0. 0. 0. 0. 0. 0. 0. 0. 0. 0.]\n",
      "  [0. 0. 1. 0. 0. 0. 0. 0. 0. 0. 0. 0. 0. 0. 0. 0. 0. 0. 0. 0. 0. 0. 0.\n",
      "   0. 0. 0. 0. 0. 0. 0. 0. 0. 0. 0. 0. 0.]\n",
      "  [0. 0. 0. 1. 0. 0. 0. 0. 0. 0. 0. 0. 0. 0. 0. 0. 0. 0. 0. 0. 0. 0. 0.\n",
      "   0. 0. 0. 0. 0. 0. 0. 0. 0. 0. 0. 0. 0.]]\n",
      "\n",
      " [[0. 0. 0. 0. 0. 0. 0. 0. 0. 0. 0. 0. 0. 0. 0. 0. 0. 0. 0. 0. 0. 0. 0.\n",
      "   0. 0. 0. 0. 0. 0. 0. 0. 0. 0. 0. 0. 0.]\n",
      "  [0. 0. 0. 0. 0. 0. 1. 0. 0. 0. 0. 0. 0. 0. 0. 0. 0. 0. 0. 0. 0. 0. 0.\n",
      "   0. 0. 0. 0. 0. 0. 0. 0. 0. 0. 0. 0. 0.]\n",
      "  [0. 0. 0. 0. 0. 0. 0. 0. 0. 0. 0. 0. 0. 0. 0. 0. 0. 0. 0. 0. 0. 0. 0.\n",
      "   0. 0. 0. 0. 0. 0. 0. 0. 0. 0. 0. 0. 0.]\n",
      "  [0. 0. 0. 0. 0. 0. 0. 0. 0. 0. 0. 0. 0. 0. 0. 0. 0. 0. 0. 0. 0. 0. 0.\n",
      "   0. 0. 0. 0. 0. 0. 0. 0. 0. 0. 0. 0. 0.]]\n",
      "\n",
      " [[0. 0. 0. 0. 0. 0. 0. 0. 0. 0. 0. 0. 0. 0. 0. 0. 0. 0. 0. 0. 0. 0. 0.\n",
      "   0. 0. 0. 0. 0. 0. 0. 0. 0. 0. 0. 0. 0.]\n",
      "  [0. 0. 0. 0. 0. 0. 0. 0. 0. 0. 0. 0. 0. 0. 0. 0. 0. 0. 0. 0. 0. 0. 0.\n",
      "   0. 0. 0. 0. 0. 0. 0. 0. 0. 0. 0. 0. 0.]\n",
      "  [0. 0. 0. 0. 0. 0. 0. 0. 0. 0. 0. 0. 0. 0. 0. 0. 0. 0. 0. 0. 0. 0. 0.\n",
      "   0. 0. 0. 0. 0. 0. 0. 0. 0. 0. 0. 0. 0.]\n",
      "  [0. 0. 0. 0. 0. 0. 0. 0. 0. 0. 0. 0. 0. 0. 0. 0. 0. 0. 0. 0. 0. 0. 0.\n",
      "   0. 0. 0. 0. 0. 0. 0. 0. 0. 0. 0. 0. 0.]]]\n"
     ]
    }
   ],
   "source": [
    "from envs.env import JassEnv\n",
    "\n",
    "players = {\"P1\": \"random\", \"P2\": \"greedy\", \"P3\": \"random\"}\n",
    "# Create game instance and play one round of Jass\n",
    "env = JassEnv(starting_player_id=1, players=players)\n",
    "state = env.reset()"
   ]
  },
  {
   "cell_type": "code",
   "execution_count": 22,
   "metadata": {},
   "outputs": [
    {
     "ename": "IndexError",
     "evalue": "index 0 is out of bounds for axis 0 with size 0",
     "output_type": "error",
     "traceback": [
      "\u001b[0;31m---------------------------------------------------------------------------\u001b[0m",
      "\u001b[0;31mIndexError\u001b[0m                                Traceback (most recent call last)",
      "Cell \u001b[0;32mIn[22], line 11\u001b[0m\n\u001b[1;32m      8\u001b[0m state[\u001b[38;5;241m1\u001b[39m, \u001b[38;5;241m2\u001b[39m, \u001b[38;5;241m15\u001b[39m] \u001b[38;5;241m=\u001b[39m \u001b[38;5;241m1\u001b[39m\n\u001b[1;32m     10\u001b[0m index \u001b[38;5;241m=\u001b[39m np\u001b[38;5;241m.\u001b[39mwhere(state[\u001b[38;5;241m2\u001b[39m, :, :] \u001b[38;5;241m==\u001b[39m \u001b[38;5;241m1\u001b[39m)[\u001b[38;5;241m1\u001b[39m]\n\u001b[0;32m---> 11\u001b[0m \u001b[38;5;28mprint\u001b[39m(\u001b[43mindex\u001b[49m\u001b[43m[\u001b[49m\u001b[38;5;241;43m0\u001b[39;49m\u001b[43m]\u001b[49m)\n",
      "\u001b[0;31mIndexError\u001b[0m: index 0 is out of bounds for axis 0 with size 0"
     ]
    }
   ],
   "source": [
    "import numpy as np\n",
    "\n",
    "state = np.zeros((4, 4, 36))\n",
    "\n",
    "state[0, 0, 24] = 1\n",
    "state[0, 0, 34] = 1\n",
    "state[0, 0, 10] = 1\n",
    "state[1, 2, 15] = 1\n",
    "\n",
    "index = np.where(state[2, :, :] == 1)[1]\n",
    "print(index[0])"
   ]
  },
  {
   "cell_type": "code",
   "execution_count": 26,
   "metadata": {},
   "outputs": [
    {
     "name": "stdout",
     "output_type": "stream",
     "text": [
      "{'P0': None, 'P1': 'nlel', 'P2': None, 'P3': None}\n",
      "{'P0': None, 'P1': None, 'P2': None, 'P3': None}\n"
     ]
    }
   ],
   "source": [
    "from envs.trick import Trick\n",
    "\n",
    "t1 = Trick(1)\n",
    "t1.trick[\"P1\"] = \"nlel\"\n",
    "\n",
    "print(t1.trick)\n",
    "\n",
    "t1 = Trick(1)\n",
    "\n",
    "print(t1.trick)"
   ]
  },
  {
   "cell_type": "code",
   "execution_count": 27,
   "metadata": {},
   "outputs": [
    {
     "name": "stdout",
     "output_type": "stream",
     "text": [
      "[5 3 8 0 7]\n"
     ]
    }
   ],
   "source": [
    "import numpy as np\n",
    "\n",
    "arr = np.array([5, 12, 3, 25, 8, 0, 9, 30, 7])  # Example array\n",
    "\n",
    "filtered_arr = arr[(arr >= 0) & (arr <= 8)]\n",
    "print(filtered_arr)"
   ]
  },
  {
   "cell_type": "code",
   "execution_count": 32,
   "metadata": {},
   "outputs": [],
   "source": [
    "def func(hand):\n",
    "    valid_hand = hand\n",
    "    return valid_hand if valid_hand else \"lel\""
   ]
  },
  {
   "cell_type": "code",
   "execution_count": 45,
   "metadata": {},
   "outputs": [
    {
     "name": "stdout",
     "output_type": "stream",
     "text": [
      "[[[0 0 1 0]\n",
      "  [0 0 0 0]\n",
      "  [0 0 0 1]\n",
      "  [0 0 0 0]]\n",
      "\n",
      " [[0 0 0 1]\n",
      "  [0 0 1 0]\n",
      "  [0 0 0 0]\n",
      "  [0 0 0 0]]\n",
      "\n",
      " [[0 0 0 1]\n",
      "  [0 1 0 0]\n",
      "  [0 0 0 0]\n",
      "  [0 0 0 0]]\n",
      "\n",
      " [[0 0 0 0]\n",
      "  [0 0 0 0]\n",
      "  [0 0 0 0]\n",
      "  [0 0 0 0]]]\n",
      "[[[0 0 1 0]\n",
      "  [0 0 0 0]\n",
      "  [0 0 0 1]\n",
      "  [0 0 0 0]]\n",
      "\n",
      " [[0 0 0 0]\n",
      "  [0 0 0 0]\n",
      "  [0 0 0 0]\n",
      "  [0 0 0 0]]\n",
      "\n",
      " [[0 0 0 0]\n",
      "  [0 0 0 0]\n",
      "  [0 0 0 0]\n",
      "  [0 0 0 0]]\n",
      "\n",
      " [[0 0 0 1]\n",
      "  [0 1 1 0]\n",
      "  [0 0 0 0]\n",
      "  [0 0 0 0]]]\n"
     ]
    }
   ],
   "source": [
    "state = np.zeros((4, 4, 4), dtype=int)\n",
    "\n",
    "state[0, 2, 3] = 1\n",
    "state[0, 0, 2] = 1\n",
    "\n",
    "state[1, 1, 2] = 1\n",
    "state[1, 0, 3] = 1\n",
    "\n",
    "state[2, 0, 3] = 1\n",
    "state[2, 1, 1] = 1\n",
    "\n",
    "print(state)\n",
    "\n",
    "state[3, :, :] = state[1, :, :] | state[3, :, :]\n",
    "state[1, :, :] = 0\n",
    "\n",
    "state[3, :, :] = state[2, :, :] | state[3, :, :]\n",
    "state[2, :, :] = 0\n",
    "\n",
    "print(state)"
   ]
  },
  {
   "cell_type": "code",
   "execution_count": 43,
   "metadata": {},
   "outputs": [
    {
     "name": "stdout",
     "output_type": "stream",
     "text": [
      "[[0 0 0 0 0 1 0 0 0 0 0 0 0 0 0 0 0 0 0 0 0 0 0 0 0 0 0 0 0 0 0 0 0 0 0 0]\n",
      " [0 0 0 0 0 0 0 0 0 0 0 0 0 0 0 0 0 0 0 0 0 0 0 0 0 0 0 0 0 0 0 0 0 0 0 0]\n",
      " [0 0 0 0 0 0 0 0 0 0 0 0 0 0 0 0 0 0 0 0 0 0 0 0 0 0 0 0 0 0 0 0 0 0 0 0]\n",
      " [0 0 0 0 0 0 0 0 0 0 0 0 0 0 0 0 0 0 0 0 0 0 0 0 0 0 0 0 0 0 0 0 0 0 0 0]]\n"
     ]
    }
   ],
   "source": [
    "import numpy as np\n",
    "\n",
    "# Example 3D array\n",
    "arr = np.zeros((4, 4, 36), dtype=int)\n",
    "\n",
    "# Assuming arr has some data\n",
    "arr[1, 0, 5] = 1  # Example data in the 2nd row (index 1)\n",
    "arr[3, 0, 5] = 1  # Example data in the 4th row (index 3)\n",
    "\n",
    "# Perform element-wise OR between arr[1, :, :] and arr[3, :, :]\n",
    "arr[3, :, :] = arr[1, :, :] | arr[3, :, :]\n",
    "\n",
    "print(arr[3, :, :])\n"
   ]
  },
  {
   "cell_type": "code",
   "execution_count": null,
   "metadata": {},
   "outputs": [],
   "source": []
  }
 ],
 "metadata": {
  "kernelspec": {
   "display_name": "jass-ai",
   "language": "python",
   "name": "python3"
  },
  "language_info": {
   "codemirror_mode": {
    "name": "ipython",
    "version": 3
   },
   "file_extension": ".py",
   "mimetype": "text/x-python",
   "name": "python",
   "nbconvert_exporter": "python",
   "pygments_lexer": "ipython3",
   "version": "3.11.10"
  }
 },
 "nbformat": 4,
 "nbformat_minor": 2
}
