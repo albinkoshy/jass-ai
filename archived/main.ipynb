{
 "cells": [
  {
   "cell_type": "code",
   "execution_count": null,
   "metadata": {},
   "outputs": [
    {
     "ename": "KeyboardInterrupt",
     "evalue": "",
     "output_type": "error",
     "traceback": [
      "\u001b[0;31m---------------------------------------------------------------------------\u001b[0m",
      "\u001b[0;31mKeyboardInterrupt\u001b[0m                         Traceback (most recent call last)",
      "Cell \u001b[0;32mIn[2], line 45\u001b[0m\n\u001b[1;32m     42\u001b[0m next_state, reward, done \u001b[38;5;241m=\u001b[39m env\u001b[38;5;241m.\u001b[39mstep(action)\n\u001b[1;32m     44\u001b[0m agent\u001b[38;5;241m.\u001b[39mremember(state, action, reward, next_state, done)\n\u001b[0;32m---> 45\u001b[0m \u001b[43magent\u001b[49m\u001b[38;5;241;43m.\u001b[39;49m\u001b[43moptimize_model\u001b[49m\u001b[43m(\u001b[49m\u001b[43m)\u001b[49m\n\u001b[1;32m     47\u001b[0m state \u001b[38;5;241m=\u001b[39m copy\u001b[38;5;241m.\u001b[39mdeepcopy(next_state)\n\u001b[1;32m     48\u001b[0m total_reward \u001b[38;5;241m+\u001b[39m\u001b[38;5;241m=\u001b[39m reward\n",
      "File \u001b[0;32m~/dev/jass-ai/src/agents/dqn_agent.py:112\u001b[0m, in \u001b[0;36mDQN_Agent.optimize_model\u001b[0;34m(self)\u001b[0m\n\u001b[1;32m    110\u001b[0m \u001b[38;5;66;03m# Get samples from memory\u001b[39;00m\n\u001b[1;32m    111\u001b[0m states, actions, rewards, next_states, dones \u001b[38;5;241m=\u001b[39m \u001b[38;5;28mself\u001b[39m\u001b[38;5;241m.\u001b[39mmemory\u001b[38;5;241m.\u001b[39msample(\u001b[38;5;28mself\u001b[39m\u001b[38;5;241m.\u001b[39mbatch_size, split_transitions\u001b[38;5;241m=\u001b[39m\u001b[38;5;28;01mTrue\u001b[39;00m)\n\u001b[0;32m--> 112\u001b[0m states_masks, next_states_masks \u001b[38;5;241m=\u001b[39m \u001b[38;5;28;43mself\u001b[39;49m\u001b[38;5;241;43m.\u001b[39;49m\u001b[43m_get_masks_for_optimization\u001b[49m\u001b[43m(\u001b[49m\u001b[43mstates\u001b[49m\u001b[43m,\u001b[49m\u001b[43m \u001b[49m\u001b[43mnext_states\u001b[49m\u001b[43m,\u001b[49m\u001b[43m \u001b[49m\u001b[43mdones\u001b[49m\u001b[43m)\u001b[49m \u001b[38;5;66;03m# Masks: True for invalid actions, False for valid actions\u001b[39;00m\n\u001b[1;32m    114\u001b[0m states, actions, rewards, next_states, dones \u001b[38;5;241m=\u001b[39m \u001b[38;5;28mself\u001b[39m\u001b[38;5;241m.\u001b[39m_preprocess_batch(states, actions, rewards, next_states, dones)\n\u001b[1;32m    116\u001b[0m \u001b[38;5;28;01mwith\u001b[39;00m torch\u001b[38;5;241m.\u001b[39mno_grad():\n",
      "File \u001b[0;32m~/dev/jass-ai/src/agents/dqn_agent.py:263\u001b[0m, in \u001b[0;36mDQN_Agent._get_masks_for_optimization\u001b[0;34m(self, states, next_states, dones)\u001b[0m\n\u001b[1;32m    260\u001b[0m         mask[valid_hand_card_indices] \u001b[38;5;241m=\u001b[39m \u001b[38;5;241m0\u001b[39m\n\u001b[1;32m    261\u001b[0m         next_states_masks\u001b[38;5;241m.\u001b[39mappend(mask)\n\u001b[0;32m--> 263\u001b[0m states_masks \u001b[38;5;241m=\u001b[39m \u001b[43mtorch\u001b[49m\u001b[38;5;241;43m.\u001b[39;49m\u001b[43mtensor\u001b[49m\u001b[43m(\u001b[49m\u001b[43mstates_masks\u001b[49m\u001b[43m,\u001b[49m\u001b[43m \u001b[49m\u001b[43mdtype\u001b[49m\u001b[38;5;241;43m=\u001b[39;49m\u001b[43mtorch\u001b[49m\u001b[38;5;241;43m.\u001b[39;49m\u001b[43mbool\u001b[49m\u001b[43m,\u001b[49m\u001b[43m \u001b[49m\u001b[43mdevice\u001b[49m\u001b[38;5;241;43m=\u001b[39;49m\u001b[38;5;28;43mself\u001b[39;49m\u001b[38;5;241;43m.\u001b[39;49m\u001b[43mdevice\u001b[49m\u001b[43m)\u001b[49m\n\u001b[1;32m    264\u001b[0m next_states_masks \u001b[38;5;241m=\u001b[39m torch\u001b[38;5;241m.\u001b[39mtensor(next_states_masks, dtype\u001b[38;5;241m=\u001b[39mtorch\u001b[38;5;241m.\u001b[39mbool, device\u001b[38;5;241m=\u001b[39m\u001b[38;5;28mself\u001b[39m\u001b[38;5;241m.\u001b[39mdevice)\n\u001b[1;32m    265\u001b[0m \u001b[38;5;28;01mreturn\u001b[39;00m states_masks, next_states_masks\n",
      "\u001b[0;31mKeyboardInterrupt\u001b[0m: "
     ]
    }
   ],
   "source": [
    "import copy\n",
    "import os\n",
    "import numpy as np\n",
    "# ML libraries\n",
    "import torch\n",
    "import torch.nn as nn\n",
    "from collections import deque\n",
    "\n",
    "from agents.random_agent import Random_Agent\n",
    "from agents.dqn_agent import DQN_Agent\n",
    "from envs._env import JassEnv\n",
    "import utils\n",
    "\n",
    "utils.seed_everything(99, deterministic=False)\n",
    "\n",
    "NUM_EPISODES = 10000\n",
    "# Use GPU if available\n",
    "device = torch.device(\"cuda:0\" if torch.cuda.is_available() else \"cpu\")\n",
    "\n",
    "# Player table\n",
    "#   P2\n",
    "# P3  P1\n",
    "#   P0\n",
    "\n",
    "agent = DQN_Agent(player_id=0, team_id=0, device=device)\n",
    "players = {\"P1\": \"greedy\", \"P2\": \"greedy\", \"P3\": \"greedy\"}\n",
    "starting_player_id = 0\n",
    "\n",
    "total_rewards = deque(maxlen=10)\n",
    "for i in range(NUM_EPISODES):\n",
    "    env = JassEnv(starting_player_id=starting_player_id, players=players)\n",
    "    state = env.reset()\n",
    "    done = False\n",
    "    \n",
    "    total_reward = 0\n",
    "    while not done:\n",
    "        print('\\r                                                                                                                                                                                                          ', end='', flush=True)\n",
    "        print(f'\\rRunning episode {i} of {NUM_EPISODES}. Agent Parameters: Epsilon = {agent.epsilon:.6f}, Memory Size = {len(agent.memory.memory)}. AVG_total_reward = {np.average(total_rewards)}', end='', flush=True)\n",
    "                \n",
    "        action = agent.act(state)\n",
    "        next_state, reward, done = env.step(action)\n",
    "        \n",
    "        agent.remember(state, action, reward, next_state, done)\n",
    "        agent.optimize_model()\n",
    "            \n",
    "        state = copy.deepcopy(next_state)\n",
    "        total_reward += reward\n",
    "    \n",
    "    starting_player_id = (starting_player_id + 1) % 4\n",
    "    total_rewards.append(total_reward)\n",
    "    if i % 100 == 0:\n",
    "        print(f\"Episode {i} done\")\n",
    "        print(f\"Total reward: {total_reward}\")\n",
    "    \n",
    "    if i % 1000 == 0:\n",
    "        directory = \"./agents/models\"\n",
    "        if not os.path.isdir(directory):\n",
    "            os.mkdir(directory)\n",
    "        torch.save(agent.network.state_dict(), f\"./agents/models/dqn_agent_{i}.pt\")\n",
    "        \n",
    "        \n",
    "        \n",
    "        \n",
    "        "
   ]
  },
  {
   "cell_type": "code",
   "execution_count": null,
   "metadata": {},
   "outputs": [],
   "source": []
  }
 ],
 "metadata": {
  "kernelspec": {
   "display_name": "jass-ai",
   "language": "python",
   "name": "python3"
  },
  "language_info": {
   "codemirror_mode": {
    "name": "ipython",
    "version": 3
   },
   "file_extension": ".py",
   "mimetype": "text/x-python",
   "name": "python",
   "nbconvert_exporter": "python",
   "pygments_lexer": "ipython3",
   "version": "3.11.10"
  }
 },
 "nbformat": 4,
 "nbformat_minor": 2
}
