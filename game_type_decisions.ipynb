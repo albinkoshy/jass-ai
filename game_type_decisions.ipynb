{
 "cells": [
  {
   "cell_type": "markdown",
   "metadata": {},
   "source": [
    "### Greedy Agent Game Type Selection"
   ]
  },
  {
   "cell_type": "code",
   "execution_count": 1,
   "metadata": {},
   "outputs": [
    {
     "name": "stderr",
     "output_type": "stream",
     "text": [
      "100%|██████████| 1000000/1000000 [00:18<00:00, 54112.11it/s]"
     ]
    },
    {
     "name": "stdout",
     "output_type": "stream",
     "text": [
      "1.0\n",
      "{'TOP_DOWN': 0.105955, 'BOTTOM_UP': 0.105919, 'ROSE': 0.161873, 'SCHILTE': 0.161824, 'EICHEL': 0.162231, 'SCHELLE': 0.1619, 'SCHIEBEN': 0.140298}\n"
     ]
    },
    {
     "name": "stderr",
     "output_type": "stream",
     "text": [
      "\n"
     ]
    }
   ],
   "source": [
    "import sys\n",
    "import os\n",
    "src_path = os.path.abspath(\"src\")\n",
    "if src_path not in sys.path:\n",
    "    sys.path.append(src_path)\n",
    "\n",
    "import random\n",
    "from tqdm import tqdm\n",
    "from envs.deck import Deck\n",
    "from envs.card import Suit\n",
    "import utils\n",
    "\n",
    "utils.seed_everything(42)\n",
    "\n",
    "def game_type_probabilities(n: int):\n",
    "    is_geschoben = False\n",
    "    \n",
    "    count_game_type = {\n",
    "        \"TOP_DOWN\": 0,\n",
    "        \"BOTTOM_UP\": 0,\n",
    "        \"ROSE\": 0,\n",
    "        \"SCHILTE\": 0,\n",
    "        \"EICHEL\": 0,\n",
    "        \"SCHELLE\": 0,\n",
    "        \"SCHIEBEN\": 0\n",
    "    }\n",
    "\n",
    "    for _ in tqdm(range(n)):\n",
    "        if not is_geschoben and random.random() < 0.14:\n",
    "            count_game_type[\"SCHIEBEN\"] += 1\n",
    "            continue\n",
    "\n",
    "        deck = Deck()\n",
    "        hand = deck.cards[:9]\n",
    "        hand.sort(key=lambda card: (card.suit.value, card.rank.value))\n",
    "        #print(hand)\n",
    "\n",
    "        # Choose top-down if many high cards\n",
    "        high_cards = [card for card in hand if card.rank.value > 10]\n",
    "        if len(high_cards) > 5:\n",
    "            count_game_type[\"TOP_DOWN\"] += 1\n",
    "            continue\n",
    "\n",
    "        # Choose bottom-up if many low cards\n",
    "        low_cards = [card for card in hand if card.rank.value <= 9]\n",
    "        if len(low_cards) > 5:\n",
    "            count_game_type[\"BOTTOM_UP\"] += 1\n",
    "            continue\n",
    "\n",
    "        # Choose trump for which it has the most cards\n",
    "        suits = [card.suit for card in hand]\n",
    "        suit_counts = {suit: suits.count(suit) for suit in set(suits)}\n",
    "        max_count = max(suit_counts.values())\n",
    "        max_suits = [suit for suit, count in suit_counts.items() if count == max_count]\n",
    "\n",
    "        trump = random.choice(max_suits)\n",
    "\n",
    "        if trump == Suit.ROSE:\n",
    "            count_game_type[\"ROSE\"] += 1\n",
    "            continue\n",
    "        elif trump == Suit.SCHILTE:\n",
    "            count_game_type[\"SCHILTE\"] += 1\n",
    "            continue\n",
    "        elif trump == Suit.EICHEL:\n",
    "            count_game_type[\"EICHEL\"] += 1\n",
    "            continue\n",
    "        elif trump == Suit.SCHELLE:\n",
    "            count_game_type[\"SCHELLE\"] += 1\n",
    "            continue\n",
    "        else:\n",
    "            raise ValueError(\"Suit not recognized\")\n",
    "    \n",
    "    game_type_probs = {game_type: count / n for game_type, count in count_game_type.items()}\n",
    "    return game_type_probs\n",
    "\n",
    "\n",
    "n = 1000000\n",
    "game_type_probs = game_type_probabilities(n)\n",
    "\n",
    "print(sum(game_type_probs.values()))\n",
    "print(game_type_probs)"
   ]
  },
  {
   "cell_type": "markdown",
   "metadata": {},
   "source": [
    "### DQN Agent Game Type Selection"
   ]
  },
  {
   "cell_type": "code",
   "execution_count": 2,
   "metadata": {},
   "outputs": [
    {
     "name": "stderr",
     "output_type": "stream",
     "text": [
      "100%|██████████| 1000000/1000000 [06:45<00:00, 2463.72it/s]"
     ]
    },
    {
     "name": "stdout",
     "output_type": "stream",
     "text": [
      "1.0\n",
      "{'TOP_DOWN': 0.037575, 'BOTTOM_UP': 0.150872, 'ROSE': 0.069505, 'SCHILTE': 0.073468, 'EICHEL': 0.080882, 'SCHELLE': 0.068887, 'SCHIEBEN': 0.518811}\n"
     ]
    },
    {
     "name": "stderr",
     "output_type": "stream",
     "text": [
      "\n"
     ]
    }
   ],
   "source": [
    "model_path = \"models/FI_dqn_128-128_500000.pt\"\n",
    "hide_opponents_hands = False\n",
    "    \n",
    "from tqdm import tqdm\n",
    "from agents.dqn_agent import DQN_Agent\n",
    "from agents.greedy_agent import Greedy_Agent\n",
    "from envs.jassenv import JassEnv\n",
    "\n",
    "def game_type_probabilities_dqn(n: int):\n",
    "    \n",
    "    agent = DQN_Agent(player_id=0, \n",
    "                        team_id=0,\n",
    "                        deterministic=True,\n",
    "                        hide_opponents_hands=hide_opponents_hands,\n",
    "                        hidden_sizes=[128, 128],\n",
    "                        activation=\"relu\")\n",
    "    agent.load_model(model_path)\n",
    "    \n",
    "    players = [agent,\n",
    "               Greedy_Agent(player_id=1, team_id=1),\n",
    "               Greedy_Agent(player_id=2, team_id=0),\n",
    "               Greedy_Agent(player_id=3, team_id=1)]\n",
    "    \n",
    "    env = JassEnv(players=players, print_globals=False)\n",
    "    \n",
    "    count_game_type = {\n",
    "        \"TOP_DOWN\": 0,\n",
    "        \"BOTTOM_UP\": 0,\n",
    "        \"ROSE\": 0,\n",
    "        \"SCHILTE\": 0,\n",
    "        \"EICHEL\": 0,\n",
    "        \"SCHELLE\": 0,\n",
    "        \"SCHIEBEN\": 0\n",
    "    }\n",
    "\n",
    "    for _ in tqdm(range(n)):\n",
    "\n",
    "        state = env.reset(starting_player_id=0)\n",
    "        \n",
    "        game_type = players[0].choose_game_type(state=state)\n",
    "        \n",
    "        if game_type == \"TOP_DOWN\":\n",
    "            count_game_type[\"TOP_DOWN\"] += 1\n",
    "            continue\n",
    "        elif game_type == \"BOTTOM_UP\":\n",
    "            count_game_type[\"BOTTOM_UP\"] += 1\n",
    "            continue\n",
    "        elif game_type == \"ROSE\":\n",
    "            count_game_type[\"ROSE\"] += 1\n",
    "            continue\n",
    "        elif game_type == \"SCHILTE\":\n",
    "            count_game_type[\"SCHILTE\"] += 1\n",
    "            continue\n",
    "        elif game_type == \"EICHEL\":\n",
    "            count_game_type[\"EICHEL\"] += 1\n",
    "            continue\n",
    "        elif game_type == \"SCHELLE\":\n",
    "            count_game_type[\"SCHELLE\"] += 1\n",
    "            continue\n",
    "        elif game_type == \"SCHIEBEN\":\n",
    "            count_game_type[\"SCHIEBEN\"] += 1\n",
    "            continue\n",
    "    \n",
    "    game_type_probs = {game_type: count / n for game_type, count in count_game_type.items()}\n",
    "    return game_type_probs\n",
    "\n",
    "\n",
    "n = 1000000\n",
    "game_type_probs = game_type_probabilities_dqn(n)\n",
    "\n",
    "print(sum(game_type_probs.values()))\n",
    "print(game_type_probs)"
   ]
  },
  {
   "cell_type": "code",
   "execution_count": 4,
   "metadata": {},
   "outputs": [
    {
     "name": "stderr",
     "output_type": "stream",
     "text": [
      "100%|██████████| 1000000/1000000 [06:25<00:00, 2592.48it/s]"
     ]
    },
    {
     "name": "stdout",
     "output_type": "stream",
     "text": [
      "1.0\n",
      "{'TOP_DOWN': 0.210337, 'BOTTOM_UP': 0.30699, 'ROSE': 0.043063, 'SCHILTE': 0.022591, 'EICHEL': 0.018677, 'SCHELLE': 0.035018, 'SCHIEBEN': 0.363324}\n"
     ]
    },
    {
     "name": "stderr",
     "output_type": "stream",
     "text": [
      "\n"
     ]
    }
   ],
   "source": [
    "model_path = \"models/PI_dqn_128-128_500000.pt\"\n",
    "hide_opponents_hands = True\n",
    "   \n",
    "from tqdm import tqdm\n",
    "from agents.dqn_agent import DQN_Agent\n",
    "from agents.greedy_agent import Greedy_Agent\n",
    "from envs.jassenv import JassEnv\n",
    "\n",
    "def game_type_probabilities_dqn(n: int):\n",
    "    \n",
    "    agent = DQN_Agent(player_id=0, \n",
    "                        team_id=0,\n",
    "                        deterministic=True,\n",
    "                        hide_opponents_hands=hide_opponents_hands,\n",
    "                        hidden_sizes=[128, 128],\n",
    "                        activation=\"relu\")\n",
    "    agent.load_model(model_path)\n",
    "    \n",
    "    players = [agent,\n",
    "               Greedy_Agent(player_id=1, team_id=1),\n",
    "               Greedy_Agent(player_id=2, team_id=0),\n",
    "               Greedy_Agent(player_id=3, team_id=1)]\n",
    "    \n",
    "    env = JassEnv(players=players, print_globals=False)\n",
    "    \n",
    "    count_game_type = {\n",
    "        \"TOP_DOWN\": 0,\n",
    "        \"BOTTOM_UP\": 0,\n",
    "        \"ROSE\": 0,\n",
    "        \"SCHILTE\": 0,\n",
    "        \"EICHEL\": 0,\n",
    "        \"SCHELLE\": 0,\n",
    "        \"SCHIEBEN\": 0\n",
    "    }\n",
    "\n",
    "    for _ in tqdm(range(n)):\n",
    "\n",
    "        state = env.reset(starting_player_id=0)\n",
    "        \n",
    "        game_type = players[0].choose_game_type(state=state)\n",
    "        \n",
    "        if game_type == \"TOP_DOWN\":\n",
    "            count_game_type[\"TOP_DOWN\"] += 1\n",
    "            continue\n",
    "        elif game_type == \"BOTTOM_UP\":\n",
    "            count_game_type[\"BOTTOM_UP\"] += 1\n",
    "            continue\n",
    "        elif game_type == \"ROSE\":\n",
    "            count_game_type[\"ROSE\"] += 1\n",
    "            continue\n",
    "        elif game_type == \"SCHILTE\":\n",
    "            count_game_type[\"SCHILTE\"] += 1\n",
    "            continue\n",
    "        elif game_type == \"EICHEL\":\n",
    "            count_game_type[\"EICHEL\"] += 1\n",
    "            continue\n",
    "        elif game_type == \"SCHELLE\":\n",
    "            count_game_type[\"SCHELLE\"] += 1\n",
    "            continue\n",
    "        elif game_type == \"SCHIEBEN\":\n",
    "            count_game_type[\"SCHIEBEN\"] += 1\n",
    "            continue\n",
    "    \n",
    "    game_type_probs = {game_type: count / n for game_type, count in count_game_type.items()}\n",
    "    return game_type_probs\n",
    "\n",
    "\n",
    "n = 1000000\n",
    "game_type_probs = game_type_probabilities_dqn(n)\n",
    "\n",
    "print(sum(game_type_probs.values()))\n",
    "print(game_type_probs)"
   ]
  }
 ],
 "metadata": {
  "kernelspec": {
   "display_name": "jass-ai",
   "language": "python",
   "name": "python3"
  },
  "language_info": {
   "codemirror_mode": {
    "name": "ipython",
    "version": 3
   },
   "file_extension": ".py",
   "mimetype": "text/x-python",
   "name": "python",
   "nbconvert_exporter": "python",
   "pygments_lexer": "ipython3",
   "version": "3.11.10"
  }
 },
 "nbformat": 4,
 "nbformat_minor": 2
}
